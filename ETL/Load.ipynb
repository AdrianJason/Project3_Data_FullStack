{
 "cells": [
  {
   "cell_type": "code",
   "execution_count": 37,
   "metadata": {},
   "outputs": [],
   "source": [
    "# Depencies needed\n",
    "import pymongo\n",
    "import pandas as pd\n",
    "from sqlalchemy import create_engine\n"
   ]
  },
  {
   "cell_type": "code",
   "execution_count": 38,
   "metadata": {},
   "outputs": [
    {
     "data": {
      "text/html": [
       "<div>\n",
       "<style scoped>\n",
       "    .dataframe tbody tr th:only-of-type {\n",
       "        vertical-align: middle;\n",
       "    }\n",
       "\n",
       "    .dataframe tbody tr th {\n",
       "        vertical-align: top;\n",
       "    }\n",
       "\n",
       "    .dataframe thead th {\n",
       "        text-align: right;\n",
       "    }\n",
       "</style>\n",
       "<table border=\"1\" class=\"dataframe\">\n",
       "  <thead>\n",
       "    <tr style=\"text-align: right;\">\n",
       "      <th></th>\n",
       "      <th>Age group</th>\n",
       "      <th>Symptomatic Illnesses (Estimate)</th>\n",
       "      <th>Symptomatic Illnesses (95% UI†)</th>\n",
       "      <th>Medical Visits (Estimate)</th>\n",
       "      <th>Medical Visits (95% UI†)</th>\n",
       "      <th>Hospitalizations (Estimate)</th>\n",
       "      <th>Hospitalizations (95% UI†)</th>\n",
       "      <th>Deaths (Estimate)</th>\n",
       "      <th>Deaths (95% UI†)</th>\n",
       "      <th>Year</th>\n",
       "    </tr>\n",
       "  </thead>\n",
       "  <tbody>\n",
       "    <tr>\n",
       "      <th>0</th>\n",
       "      <td>0-4 yrs</td>\n",
       "      <td>2776311</td>\n",
       "      <td>(2,286,712, 3,521,500)</td>\n",
       "      <td>1860128</td>\n",
       "      <td>(1,497,299, 2,411,113)</td>\n",
       "      <td>19355</td>\n",
       "      <td>(15,942, 24,550)</td>\n",
       "      <td>200</td>\n",
       "      <td>(0, 509)</td>\n",
       "      <td>2010-2011</td>\n",
       "    </tr>\n",
       "    <tr>\n",
       "      <th>1</th>\n",
       "      <td>5-17 yrs</td>\n",
       "      <td>4435345</td>\n",
       "      <td>(3,609,151, 5,847,156)</td>\n",
       "      <td>2306379</td>\n",
       "      <td>(1,847,898, 3,083,851)</td>\n",
       "      <td>12161</td>\n",
       "      <td>(9,896, 16,032)</td>\n",
       "      <td>152</td>\n",
       "      <td>(0, 1,498)</td>\n",
       "      <td>2010-2011</td>\n",
       "    </tr>\n",
       "    <tr>\n",
       "      <th>2</th>\n",
       "      <td>18-49 yrs</td>\n",
       "      <td>7410066</td>\n",
       "      <td>(6,149,320, 9,526,927)</td>\n",
       "      <td>2741724</td>\n",
       "      <td>(2,203,691, 3,638,292)</td>\n",
       "      <td>41593</td>\n",
       "      <td>(34,516, 53,475)</td>\n",
       "      <td>5240</td>\n",
       "      <td>(3,682, 8,341)</td>\n",
       "      <td>2010-2011</td>\n",
       "    </tr>\n",
       "    <tr>\n",
       "      <th>3</th>\n",
       "      <td>50-64 yrs</td>\n",
       "      <td>4843828</td>\n",
       "      <td>(4,031,400, 6,493,256)</td>\n",
       "      <td>2082846</td>\n",
       "      <td>(1,662,186, 2,869,122)</td>\n",
       "      <td>51367</td>\n",
       "      <td>(42,752, 68,859)</td>\n",
       "      <td>5937</td>\n",
       "      <td>(4,254, 9,385)</td>\n",
       "      <td>2010-2011</td>\n",
       "    </tr>\n",
       "    <tr>\n",
       "      <th>4</th>\n",
       "      <td>65+ yrs</td>\n",
       "      <td>1820570</td>\n",
       "      <td>(1,591,020, 2,395,285)</td>\n",
       "      <td>1019519</td>\n",
       "      <td>(851,630, 1,383,748)</td>\n",
       "      <td>165506</td>\n",
       "      <td>(144,638, 217,753)</td>\n",
       "      <td>25128</td>\n",
       "      <td>(19,368, 42,189)</td>\n",
       "      <td>2010-2011</td>\n",
       "    </tr>\n",
       "  </tbody>\n",
       "</table>\n",
       "</div>"
      ],
      "text/plain": [
       "   Age group  Symptomatic Illnesses (Estimate)  \\\n",
       "0    0-4 yrs                           2776311   \n",
       "1   5-17 yrs                           4435345   \n",
       "2  18-49 yrs                           7410066   \n",
       "3  50-64 yrs                           4843828   \n",
       "4    65+ yrs                           1820570   \n",
       "\n",
       "  Symptomatic Illnesses (95% UI†)  Medical Visits (Estimate)  \\\n",
       "0          (2,286,712, 3,521,500)                    1860128   \n",
       "1          (3,609,151, 5,847,156)                    2306379   \n",
       "2          (6,149,320, 9,526,927)                    2741724   \n",
       "3          (4,031,400, 6,493,256)                    2082846   \n",
       "4          (1,591,020, 2,395,285)                    1019519   \n",
       "\n",
       "  Medical Visits (95% UI†)  Hospitalizations (Estimate)  \\\n",
       "0   (1,497,299, 2,411,113)                        19355   \n",
       "1   (1,847,898, 3,083,851)                        12161   \n",
       "2   (2,203,691, 3,638,292)                        41593   \n",
       "3   (1,662,186, 2,869,122)                        51367   \n",
       "4     (851,630, 1,383,748)                       165506   \n",
       "\n",
       "  Hospitalizations (95% UI†) Deaths (Estimate)  Deaths (95% UI†)       Year  \n",
       "0           (15,942, 24,550)               200          (0, 509)  2010-2011  \n",
       "1            (9,896, 16,032)               152        (0, 1,498)  2010-2011  \n",
       "2           (34,516, 53,475)              5240    (3,682, 8,341)  2010-2011  \n",
       "3           (42,752, 68,859)              5937    (4,254, 9,385)  2010-2011  \n",
       "4         (144,638, 217,753)             25128  (19,368, 42,189)  2010-2011  "
      ]
     },
     "execution_count": 38,
     "metadata": {},
     "output_type": "execute_result"
    }
   ],
   "source": [
    "flu_data = pd.read_csv(\"TransformCSV/flu_10to21.csv\")\n",
    "vaccine_data = pd.read_csv(\"TransformCSV/vaccine_11to21.csv\")\n",
    "flu_data.head()"
   ]
  },
  {
   "cell_type": "code",
   "execution_count": 39,
   "metadata": {},
   "outputs": [
    {
     "data": {
      "text/html": [
       "<div>\n",
       "<style scoped>\n",
       "    .dataframe tbody tr th:only-of-type {\n",
       "        vertical-align: middle;\n",
       "    }\n",
       "\n",
       "    .dataframe tbody tr th {\n",
       "        vertical-align: top;\n",
       "    }\n",
       "\n",
       "    .dataframe thead th {\n",
       "        text-align: right;\n",
       "    }\n",
       "</style>\n",
       "<table border=\"1\" class=\"dataframe\">\n",
       "  <thead>\n",
       "    <tr style=\"text-align: right;\">\n",
       "      <th></th>\n",
       "      <th>Week</th>\n",
       "      <th>Total Doses Distributed</th>\n",
       "    </tr>\n",
       "  </thead>\n",
       "  <tbody>\n",
       "    <tr>\n",
       "      <th>0</th>\n",
       "      <td>2012-02-03</td>\n",
       "      <td>132.1</td>\n",
       "    </tr>\n",
       "    <tr>\n",
       "      <th>1</th>\n",
       "      <td>2012-01-20</td>\n",
       "      <td>132.0</td>\n",
       "    </tr>\n",
       "    <tr>\n",
       "      <th>2</th>\n",
       "      <td>2011-12-30</td>\n",
       "      <td>131.2</td>\n",
       "    </tr>\n",
       "    <tr>\n",
       "      <th>3</th>\n",
       "      <td>2011-12-16</td>\n",
       "      <td>130.6</td>\n",
       "    </tr>\n",
       "    <tr>\n",
       "      <th>4</th>\n",
       "      <td>2011-12-09</td>\n",
       "      <td>130.1</td>\n",
       "    </tr>\n",
       "  </tbody>\n",
       "</table>\n",
       "</div>"
      ],
      "text/plain": [
       "         Week  Total Doses Distributed\n",
       "0  2012-02-03                    132.1\n",
       "1  2012-01-20                    132.0\n",
       "2  2011-12-30                    131.2\n",
       "3  2011-12-16                    130.6\n",
       "4  2011-12-09                    130.1"
      ]
     },
     "execution_count": 39,
     "metadata": {},
     "output_type": "execute_result"
    }
   ],
   "source": [
    "vaccine_data.head()"
   ]
  },
  {
   "cell_type": "code",
   "execution_count": 40,
   "metadata": {},
   "outputs": [],
   "source": [
    "conn = 'mongodb://localhost:27017'\n",
    "client = pymongo.MongoClient(conn)"
   ]
  },
  {
   "cell_type": "code",
   "execution_count": 41,
   "metadata": {},
   "outputs": [],
   "source": [
    "# Declare the database\n",
    "db = client.flu_vaccines_db"
   ]
  },
  {
   "cell_type": "code",
   "execution_count": 42,
   "metadata": {},
   "outputs": [],
   "source": [
    "# Declare the collections\n",
    "flu = db.flu\n",
    "vaccine = db.vaccine\n",
    "\n",
    "flu_dict = flu_data.to_dict(\"records\")\n",
    "vaccine_dict = vaccine_data.to_dict(\"records\")"
   ]
  },
  {
   "cell_type": "code",
   "execution_count": 43,
   "metadata": {},
   "outputs": [
    {
     "data": {
      "text/plain": [
       "<pymongo.results.InsertManyResult at 0x215af9d5a90>"
      ]
     },
     "execution_count": 43,
     "metadata": {},
     "output_type": "execute_result"
    }
   ],
   "source": [
    "# Insert collection\n",
    "flu.insert_many(flu_dict)\n",
    "vaccine.insert_many(vaccine_dict)"
   ]
  },
  {
   "cell_type": "code",
   "execution_count": 44,
   "metadata": {},
   "outputs": [
    {
     "data": {
      "text/plain": [
       "162"
      ]
     },
     "execution_count": 44,
     "metadata": {},
     "output_type": "execute_result"
    }
   ],
   "source": [
    "protocol = 'postgresql'\n",
    "username = 'postgres'\n",
    "password = 'Varsity11!'\n",
    "host = 'localhost'\n",
    "port = 5432\n",
    "database_name = 'flu_impact_db'\n",
    "rds_connection_string = f'{protocol}://{username}:{password}@{host}:{port}/{database_name}'\n",
    "engine = create_engine(rds_connection_string)\n",
    "     \n",
    "\n",
    "flu_data.to_sql(name='flu_cases', con=engine, if_exists='append', index=False)\n",
    "vaccine_data.to_sql(name='vaccines', con=engine, if_exists='append', index=False)"
   ]
  }
 ],
 "metadata": {
  "kernelspec": {
   "display_name": "base",
   "language": "python",
   "name": "python3"
  },
  "language_info": {
   "codemirror_mode": {
    "name": "ipython",
    "version": 3
   },
   "file_extension": ".py",
   "mimetype": "text/x-python",
   "name": "python",
   "nbconvert_exporter": "python",
   "pygments_lexer": "ipython3",
   "version": "3.9.12 (main, Apr  4 2022, 05:22:27) [MSC v.1916 64 bit (AMD64)]"
  },
  "orig_nbformat": 4,
  "vscode": {
   "interpreter": {
    "hash": "a9db9a8f3bd6f4fd814955456aa0a033bc70c6b9c761778ab001a35565123bbf"
   }
  }
 },
 "nbformat": 4,
 "nbformat_minor": 2
}
