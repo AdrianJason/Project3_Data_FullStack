{
 "cells": [
  {
   "cell_type": "code",
   "execution_count": 1,
   "metadata": {},
   "outputs": [],
   "source": [
    "# Import relevant libraries\n",
    "import pandas as pd"
   ]
  },
  {
   "attachments": {},
   "cell_type": "markdown",
   "metadata": {},
   "source": [
    "Flu Case Extract"
   ]
  },
  {
   "cell_type": "code",
   "execution_count": 4,
   "metadata": {},
   "outputs": [],
   "source": [
    "for k in range(11):\n",
    "    try:\n",
    "        if k < 7:\n",
    "            url = \"https://www.cdc.gov/flu/about/burden/201\" + str(k) + \"-201\" + str(k+1) + \".html\"\n",
    "            tables = pd.read_html(url)\n",
    "            flu = tables[0]\n",
    "            flu.to_csv(\"ExtractCSV/flucases/flu201\" + str(k) + \".csv\",index=False)\n",
    "        elif k == 7:\n",
    "            url = \"https://www.cdc.gov/flu/about/burden/2017-2018.htm\"\n",
    "            tables = pd.read_html(url)\n",
    "            flu = tables[0]\n",
    "            flu.to_csv(\"ExtractCSV/flucases/flu2017.csv\",index=False)\n",
    "        elif k == 8:\n",
    "            url = \"https://www.cdc.gov/flu/about/burden/2018-2019.html\"\n",
    "            tables = pd.read_html(url)\n",
    "            flu = tables[0]\n",
    "            flu.to_csv(\"ExtractCSV/flucases/flu2018.csv\",index=False)\n",
    "        elif k == 9:\n",
    "            url = \"https://www.cdc.gov/flu/about/burden/2019-2020.html\"\n",
    "            tables = pd.read_html(url)\n",
    "            flu = tables[0]\n",
    "            flu.to_csv(\"ExtractCSV/flucases/flu2019.csv\",index=False)\n",
    "        else:\n",
    "            url = \"https://www.cdc.gov/flu/about/burden/2021-2022.htm\"\n",
    "            tables = pd.read_html(url)\n",
    "            flu = tables[0]\n",
    "            flu.to_csv(\"ExtractCSV/flucases/flu2021.csv\",index=False)\n",
    "    except Exception as e:\n",
    "        print(f'An error occurred: {e} in {k}')"
   ]
  },
  {
   "attachments": {},
   "cell_type": "markdown",
   "metadata": {},
   "source": [
    "Vaccines Extract"
   ]
  },
  {
   "cell_type": "code",
   "execution_count": 3,
   "metadata": {},
   "outputs": [],
   "source": [
    "for i in range(10):\n",
    "    try:\n",
    "        if i <= 7:\n",
    "            url = \"https://www.cdc.gov/flu/prevent/vaccinesupply-201\" + str(i+1) + \".htm\"\n",
    "            \n",
    "            # Create a Pandas DataFrame by using the list of rows and a list of the column names\n",
    "            tables = pd.read_html(url)\n",
    "            vaccines = tables[0]\n",
    "\n",
    "            # Confirm DataFrame was created successfully\n",
    "            vaccines.to_csv(\"ExtractCSV/vaccines/vaccines201\" + str(i+1) + \".csv\",index=False)\n",
    "        else:\n",
    "            url = \"https://www.cdc.gov/flu/prevent/vaccinesupply-202\" + str(i-8) + \".htm\"\n",
    "            \n",
    "            # Create a Pandas DataFrame by using the list of rows and a list of the column names\n",
    "            tables = pd.read_html(url)\n",
    "            vaccines = tables[0]\n",
    "\n",
    "            # Confirm DataFrame was created successfully\n",
    "            vaccines.to_csv(\"ExtractCSV/vaccines/vaccines202\" + str(i-8) + \".csv\",index=False)\n",
    "    except Exception as e:\n",
    "        print(f'An error occurred: {e} in {i}')"
   ]
  }
 ],
 "metadata": {
  "kernelspec": {
   "display_name": "Python 3",
   "language": "python",
   "name": "python3"
  },
  "language_info": {
   "codemirror_mode": {
    "name": "ipython",
    "version": 3
   },
   "file_extension": ".py",
   "mimetype": "text/x-python",
   "name": "python",
   "nbconvert_exporter": "python",
   "pygments_lexer": "ipython3",
<<<<<<< HEAD
   "version": "3.10.8 (tags/v3.10.8:aaaf517, Oct 11 2022, 16:50:30) [MSC v.1933 64 bit (AMD64)]"
=======
   "version": "3.9.12 (main, Apr  4 2022, 05:22:27) [MSC v.1916 64 bit (AMD64)]"
>>>>>>> 7597170da621f287af194552849f2b00bfa4cc07
  },
  "orig_nbformat": 4,
  "vscode": {
   "interpreter": {
    "hash": "1d208fc92f63bff2dd80c97ffe5a57d134e87b05d2dbf0af794face5bab8487c"
   }
  }
 },
 "nbformat": 4,
 "nbformat_minor": 2
}
